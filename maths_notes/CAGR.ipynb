{
 "cells": [
  {
   "cell_type": "markdown",
   "id": "b35bd070-a1b4-4813-8089-2b4858f293ce",
   "metadata": {},
   "source": [
    "# Basic Example\n",
    "Compound annual growth rate (CAGR) is a measure used to express the smooth annual growth rate of an investment over a specified time period longer than one year. It represents one of the most useful ways to understand the growth of an investment, assuming the value grows at a steady rate.\n",
    "\n",
    "Let's look at the interest over three years in a three different cases:\n",
    "\n",
    "### Case 1\n",
    "| Year | Starting Value | Ending Value | Interest |\n",
    "|------|----------------|--------------|----------|\n",
    "| 1    | 4000           | 4200         | 5%       |\n",
    "| 2    | 4200           | 4410         | 5%       |\n",
    "| 3    | 4410           | 4631         | 5%       |\n",
    "|      |                |              |          |\n",
    "| Avg  |                |              | 5%       |\n",
    "| CAGR |                |              | 5%       |\n",
    "\n",
    "\n",
    "### Case 2\n",
    "In this case you see that the risk of each individual year (i.e. the large fluctuations) introduced a lower net effect. So although our annual average return was the same, the amount we made from start to finish on an annualised basis was lower.\n",
    "\n",
    "| Year | Starting Value | Ending Value | Interest |\n",
    "|------|----------------|--------------|----------|\n",
    "| 1    | 4000           | 4400         | 10%      |\n",
    "| 2    | 4400           | 4840         | 10%      |\n",
    "| 3    | 4840           | 4598         | -5%      |\n",
    "|      |                |              |          |\n",
    "| Avg  |                |              | 5%       |\n",
    "| CAGR |                |              | 4.8%     |\n",
    "\n",
    "\n",
    "### Case 3\n",
    "If we introduce more extreme cases we see that the average is still the same, but we actually lost money.\n",
    "\n",
    "| Year | Starting Value | Ending Value | Interest  |\n",
    "|------|----------------|--------------|-----------|\n",
    "| 1    | 4000           | 8000         | 100%      |\n",
    "| 2    | 8000           | 4000         | -50%      |\n",
    "| 3    | 4000           | 2600         | -35%      |\n",
    "|      |                |              |           |\n",
    "| Avg  |                |              | 5%        |\n",
    "| CAGR |                |              | -13.4%    |\n",
    "\n"
   ]
  },
  {
   "cell_type": "code",
   "execution_count": null,
   "id": "11859028-0db4-47cb-afc2-b5ab5670c291",
   "metadata": {},
   "outputs": [],
   "source": []
  }
 ],
 "metadata": {
  "kernelspec": {
   "display_name": "Python 3 (ipykernel)",
   "language": "python",
   "name": "python3"
  },
  "language_info": {
   "codemirror_mode": {
    "name": "ipython",
    "version": 3
   },
   "file_extension": ".py",
   "mimetype": "text/x-python",
   "name": "python",
   "nbconvert_exporter": "python",
   "pygments_lexer": "ipython3",
   "version": "3.9.2"
  }
 },
 "nbformat": 4,
 "nbformat_minor": 5
}
