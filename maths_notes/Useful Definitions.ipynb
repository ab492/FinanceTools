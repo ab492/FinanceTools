{
 "cells": [
  {
   "cell_type": "markdown",
   "id": "360f9dd6-bd87-45fa-88c5-f66dc5633066",
   "metadata": {},
   "source": [
    "*These notes are generally based on [The Intuitive Statistics Handbooklet of Standard Deviation](https://www.amazon.co.uk/Intuitive-Statistics-Handbooklet-Standard-Deviation/dp/1519589468).*"
   ]
  },
  {
   "cell_type": "markdown",
   "id": "0bcd8608-5e4d-4e47-b495-0473dd764882",
   "metadata": {},
   "source": [
    "## Variation\n",
    "All natural and artificial systems have inherent variation. Variation refers the the differences that occur in a group of observations, especially a group of measurements of a particular charateristic (e.g. length of specific fruit rather that variation in category of fruit). A small variation indicates that there is only a little difference among the measurments, while a large variation indicates that a large difference exists among the members."
   ]
  },
  {
   "cell_type": "markdown",
   "id": "edeeb341-4d43-447f-af8b-d21dd8f06431",
   "metadata": {},
   "source": [
    "## Population\n",
    "A population is the entire group of interest you are trying to characterise or about which you are trying to draw a conclusion.\n"
   ]
  },
  {
   "cell_type": "markdown",
   "id": "69a54256-52d9-45a4-a3cb-9104ad061870",
   "metadata": {},
   "source": [
    "## Sample\n",
    "A sample is a representative part of a population of interest and is expected to give information about the entire population."
   ]
  },
  {
   "cell_type": "markdown",
   "id": "5b7974cd-bade-4f0a-8276-cd1a8a7d49af",
   "metadata": {},
   "source": [
    "## Parameter\n",
    "A parameter is the true, actual characteristic of the entire, specified **population** of interest. In other words, the parameter is the true value based on measurements of ALL the members of the entire population.\n",
    "\n",
    "For example, imagine you are studying the average height of all adult women in a specific country. In this case the parameter would be the true average height of all adult women in that specific country. For example, if there are 40 million adult women, you'd need to measure each of them to determine the exact parameter (very impractical, so we'd rely on samples to estimate the parameter)."
   ]
  },
  {
   "cell_type": "markdown",
   "id": "7316a815-9afe-43c1-b74c-ea6a9d5909f0",
   "metadata": {},
   "source": [
    "## Statistic\n",
    "A statistic is a descriptive characteristic of a **sample** obtained from the entire population of interest. A statistic is often an estimate of a parameter, however a statistic also could be used as an index to make a decision about a specified hypothesis dealing with a population or populations.\n",
    "\n",
    "For example, if you want to know the average height of all adult woman in a country, you could measure the height of 1000 women as a sample with the average height being the statistic. "
   ]
  },
  {
   "cell_type": "markdown",
   "id": "eaefd572-addc-4b58-b605-ee69610a03fb",
   "metadata": {},
   "source": [
    "## Subject \n",
    "A subject in a population is the unit of interest being measured for some specified characteristic, such as a person being measured for blood cholesterol level, a bird being measured for weight, or a piece of coal from a certain area being measured for its sulphur content."
   ]
  },
  {
   "cell_type": "code",
   "execution_count": null,
   "id": "eb1b9837-8e60-42bc-8b82-18dc6e3fdcd7",
   "metadata": {},
   "outputs": [],
   "source": []
  }
 ],
 "metadata": {
  "kernelspec": {
   "display_name": "Python 3 (ipykernel)",
   "language": "python",
   "name": "python3"
  },
  "language_info": {
   "codemirror_mode": {
    "name": "ipython",
    "version": 3
   },
   "file_extension": ".py",
   "mimetype": "text/x-python",
   "name": "python",
   "nbconvert_exporter": "python",
   "pygments_lexer": "ipython3",
   "version": "3.9.2"
  }
 },
 "nbformat": 4,
 "nbformat_minor": 5
}
