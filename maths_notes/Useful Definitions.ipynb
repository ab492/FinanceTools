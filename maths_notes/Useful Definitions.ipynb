{
 "cells": [
  {
   "cell_type": "markdown",
   "id": "0bcd8608-5e4d-4e47-b495-0473dd764882",
   "metadata": {},
   "source": [
    "## Variation\n",
    "All natural and artificial systems have inherent variation. Variation refers the the differences that occur in a group of observations, especially a group of measurements of a particular charateristic (e.g. length of specific fruit rather that variation in category of fruit). A small variation indicates that there is only a little difference among the measurments, while a large variation indicates that a large difference exists among the members."
   ]
  },
  {
   "cell_type": "markdown",
   "id": "edeeb341-4d43-447f-af8b-d21dd8f06431",
   "metadata": {},
   "source": [
    "## Population\n",
    "A population is the entire group of interest you are trying to characterise or about which you are trying to draw a conclusion.\n"
   ]
  },
  {
   "cell_type": "markdown",
   "id": "69a54256-52d9-45a4-a3cb-9104ad061870",
   "metadata": {},
   "source": [
    "## Sample\n",
    "A sample is a representative part of a population of interest and is expected to give information about the entire population."
   ]
  }
 ],
 "metadata": {
  "kernelspec": {
   "display_name": "Python 3 (ipykernel)",
   "language": "python",
   "name": "python3"
  },
  "language_info": {
   "codemirror_mode": {
    "name": "ipython",
    "version": 3
   },
   "file_extension": ".py",
   "mimetype": "text/x-python",
   "name": "python",
   "nbconvert_exporter": "python",
   "pygments_lexer": "ipython3",
   "version": "3.9.2"
  }
 },
 "nbformat": 4,
 "nbformat_minor": 5
}
