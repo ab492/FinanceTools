{
 "cells": [
  {
   "cell_type": "code",
   "execution_count": 1,
   "id": "2a02bf8c-5982-4ab0-b01e-126943b1dec0",
   "metadata": {},
   "outputs": [],
   "source": [
    "from utilities import calculate_mean"
   ]
  },
  {
   "cell_type": "code",
   "execution_count": null,
   "id": "8b82eaae-d3cd-4e75-85b5-a9c4e2469236",
   "metadata": {},
   "outputs": [],
   "source": [
    "mean = calculate_mean()"
   ]
  }
 ],
 "metadata": {
  "kernelspec": {
   "display_name": "Python 3 (ipykernel)",
   "language": "python",
   "name": "python3"
  },
  "language_info": {
   "codemirror_mode": {
    "name": "ipython",
    "version": 3
   },
   "file_extension": ".py",
   "mimetype": "text/x-python",
   "name": "python",
   "nbconvert_exporter": "python",
   "pygments_lexer": "ipython3",
   "version": "3.9.2"
  }
 },
 "nbformat": 4,
 "nbformat_minor": 5
}
