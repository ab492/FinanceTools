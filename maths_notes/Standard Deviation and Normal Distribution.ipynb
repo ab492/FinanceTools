{
 "cells": [
  {
   "cell_type": "markdown",
   "id": "73a17bdc-b917-4baa-831b-f8d625f2c41c",
   "metadata": {},
   "source": [
    "# Basic Example\n",
    "While watching [this video](https://www.youtube.com/watch?v=3CeD0eefeQc&list=PLXy71rkGuCjUyHPkvSd-a_LUUZqcBQgOb&index=4&t=329s) Lars discusses standard deviation. Let's dive into a basic example of standard deviation in the context of financial markets to help understand.\n",
    "\n",
    "Imagine we're analyzing the closing prices of a company's stock over a week to understand its volatility. The closing prices were:"
   ]
  },
  {
   "cell_type": "code",
   "execution_count": 1,
   "id": "f6769ec2-707e-4d4e-8911-0217c0f44afa",
   "metadata": {},
   "outputs": [],
   "source": [
    "daily_closing_prices = {\n",
    "    'Monday': 100,\n",
    "    'Tuesday': 102,\n",
    "    'Wednesday': 101,\n",
    "    'Thursday': 105,\n",
    "    'Friday': 98\n",
    "}"
   ]
  },
  {
   "cell_type": "markdown",
   "id": "a9b75f20-84d1-4654-aa5f-b13025385ef0",
   "metadata": {},
   "source": [
    "### 1. Calculate the mean of the stock prices."
   ]
  },
  {
   "cell_type": "code",
   "execution_count": 2,
   "id": "540ab70d-5586-4430-a99c-8bc2eea341f2",
   "metadata": {},
   "outputs": [
    {
     "name": "stdout",
     "output_type": "stream",
     "text": [
      "The mean closing price is: £101.20\n"
     ]
    }
   ],
   "source": [
    "closing_prices = list(daily_closing_prices.values())\n",
    "mean_price = sum(closing_prices) / len(closing_prices)\n",
    "\n",
    "print(f\"The mean closing price is: £{mean_price:.2f}\")"
   ]
  },
  {
   "cell_type": "markdown",
   "id": "0806a4e8-9753-4c5c-830e-ac1bade37d50",
   "metadata": {},
   "source": [
    "### 2. Calculate the deviations from the mean."
   ]
  },
  {
   "cell_type": "code",
   "execution_count": 3,
   "id": "d8f74257-ba12-45ea-a8eb-5a039a7283bd",
   "metadata": {},
   "outputs": [
    {
     "name": "stdout",
     "output_type": "stream",
     "text": [
      "Deviations: [-1.2000000000000028, 0.7999999999999972, -0.20000000000000284, 3.799999999999997, -3.200000000000003]\n"
     ]
    }
   ],
   "source": [
    "deviations = []\n",
    "\n",
    "for price in daily_closing_prices.values():\n",
    "    deviations.append(price - mean_price)\n",
    "\n",
    "print(\"Deviations:\", deviations)"
   ]
  },
  {
   "cell_type": "markdown",
   "id": "54629d30-14b2-4b69-9678-f69a7f500ee7",
   "metadata": {},
   "source": [
    "### 3. Square the deviations. \n",
    "This eliminates negative values and gives more weight to larger deviations."
   ]
  },
  {
   "cell_type": "code",
   "execution_count": 4,
   "id": "81cc0fbb-7ef3-4934-a20f-049b2423843d",
   "metadata": {},
   "outputs": [
    {
     "name": "stdout",
     "output_type": "stream",
     "text": [
      "Squared deviations: [1.4400000000000068, 0.6399999999999955, 0.04000000000000114, 14.439999999999978, 10.240000000000018]\n"
     ]
    }
   ],
   "source": [
    "squared_deviations = [x ** 2 for x in deviations]\n",
    "print(\"Squared deviations:\", squared_deviations)"
   ]
  },
  {
   "cell_type": "markdown",
   "id": "f7472486-d761-48cc-bc6c-344b1bd31131",
   "metadata": {},
   "source": [
    "### 4. Calculate the variance.\n",
    "Variance represents the dispersion or spread of a set of data points. It tells you how much the data points in a set differ from the mean value (or how spread out the numbers are)."
   ]
  },
  {
   "cell_type": "code",
   "execution_count": 5,
   "id": "af798b1d-85f1-4673-a593-7a1ed3cb5203",
   "metadata": {},
   "outputs": [
    {
     "name": "stdout",
     "output_type": "stream",
     "text": [
      "Variance: 5.36\n"
     ]
    }
   ],
   "source": [
    "variance = sum(squared_deviations) / len(squared_deviations)\n",
    "print(\"Variance:\", variance)"
   ]
  },
  {
   "cell_type": "markdown",
   "id": "c6e7e107-6ab9-47a0-9e4e-c7cfa387f21f",
   "metadata": {},
   "source": [
    "### 5. Take the square root of the variance.\n",
    "Taking the root of the variance gives the standard deviation."
   ]
  },
  {
   "cell_type": "code",
   "execution_count": 6,
   "id": "9843bcff-e345-4c01-820c-0322f950b109",
   "metadata": {},
   "outputs": [
    {
     "name": "stdout",
     "output_type": "stream",
     "text": [
      "Standard deviation: 2.3151673805580453\n"
     ]
    }
   ],
   "source": [
    "import math\n",
    "\n",
    "standard_deviation = math.sqrt(variance)\n",
    "print(\"Standard deviation:\", standard_deviation)"
   ]
  },
  {
   "cell_type": "markdown",
   "id": "51b4f2db-c81b-4bc7-ac01-825797a94b31",
   "metadata": {},
   "source": [
    "## Explanation\n",
    "This means that, on average, the stock's closing price deviated from the weekly mean by about £2.316. A higher standard deviation would indicate a greater volatility, suggesting that the stock's price is more spread out over a range of values, which would be seen as riskier by investors. Conversely, a lower standard deviation indicates less volatility and potentially less risk."
   ]
  },
  {
   "cell_type": "markdown",
   "id": "5ebff30f-7b3a-4c9b-89f0-cf603ae8c539",
   "metadata": {},
   "source": [
    "# Alternative Approach\n",
    "We can use `numpy` to calculate the standard deviation as follows:"
   ]
  },
  {
   "cell_type": "code",
   "execution_count": 7,
   "id": "b87d03e0-a3c3-44ba-8df9-7e99ca18e041",
   "metadata": {},
   "outputs": [
    {
     "ename": "ModuleNotFoundError",
     "evalue": "No module named 'numpy'",
     "output_type": "error",
     "traceback": [
      "\u001b[31m---------------------------------------------------------------------------\u001b[39m",
      "\u001b[31mModuleNotFoundError\u001b[39m                       Traceback (most recent call last)",
      "\u001b[36mCell\u001b[39m\u001b[36m \u001b[39m\u001b[32mIn[7]\u001b[39m\u001b[32m, line 1\u001b[39m\n\u001b[32m----> \u001b[39m\u001b[32m1\u001b[39m \u001b[38;5;28;01mimport\u001b[39;00m\u001b[38;5;250m \u001b[39m\u001b[34;01mnumpy\u001b[39;00m\u001b[38;5;250m \u001b[39m\u001b[38;5;28;01mas\u001b[39;00m\u001b[38;5;250m \u001b[39m\u001b[34;01mnp\u001b[39;00m\n\u001b[32m      2\u001b[39m numpy_std_dev = np.std(closing_prices, ddof=\u001b[32m0\u001b[39m)\n\u001b[32m      3\u001b[39m \u001b[38;5;28mprint\u001b[39m(\u001b[33m\"\u001b[39m\u001b[33mNumpy standard deviation:\u001b[39m\u001b[33m\"\u001b[39m, standard_deviation)\n",
      "\u001b[31mModuleNotFoundError\u001b[39m: No module named 'numpy'"
     ]
    }
   ],
   "source": [
    "import numpy as np\n",
    "numpy_std_dev = np.std(closing_prices, ddof=0)\n",
    "print(\"Numpy standard deviation:\", standard_deviation)"
   ]
  },
  {
   "cell_type": "markdown",
   "id": "bb4c51dd-14a9-4204-8f83-f3b8d921d320",
   "metadata": {},
   "source": [
    "### A Note on `DDOF`\n",
    "Notice that the `std` function has a `ddof` parameter, which stands for *Delta Degrees of Freedom*. In statistics, the standard deviation can be calculated slightly differently depending on whether you're working with a sample of the entire population:\n",
    "\n",
    "- When calculating the variance, you typically divide the sum of the squared deviations by the number of data points. For a population variance, this is straightforward — you divide by `N`, the number of data points.\n",
    "- However, for a sample taken from a larger population, you often want to estimate the population variance. In this case, you'd divide by `N-1` instead of `N`, which is called Bessel's correction. This correction decreases the bias in the estimation of the population variance from a sample."
   ]
  },
  {
   "cell_type": "markdown",
   "id": "b5f422b3-7544-419c-b988-9b5e9f687e30",
   "metadata": {},
   "source": [
    "---"
   ]
  },
  {
   "cell_type": "markdown",
   "id": "49c84fde-c868-4039-a1a6-7c0957c1cd40",
   "metadata": {},
   "source": [
    "# Linking Standard Deviation to Normal Distribution\n",
    "A normal distribution (or Gaussian distribution) is a continuous probability distribution that is symmetric around the mean, showing that data near the mean are more frequent in occurance than data far from the mean. The standard deviation plays a crucial role in the normal distribution:"
   ]
  },
  {
   "cell_type": "markdown",
   "id": "08d9b507-79e0-4500-92bb-b0127c6e3bb4",
   "metadata": {},
   "source": [
    "### Shape and Spread\n",
    "The standard deviation determines the spread of the distribution. A smaller standard deviation means the data is closely clustered around the mean, resulting in a steeper bell curve. A larger standard deviation indicates that the data is spread out over a wider range of values, leading to a flatter bell curve."
   ]
  },
  {
   "cell_type": "markdown",
   "id": "59ba96ba-a5d1-463a-b70a-e0f0439b106d",
   "metadata": {},
   "source": [
    "### Empirical Rule\n",
    "In a normal distribution, approximately 68% of the data falls within one standard deviation of the mean, about 95% falls within two standard deviations, and about 99.7% falls within three standard deviations. This is known as the 68-95-99.7 (empirical) rule."
   ]
  },
  {
   "cell_type": "markdown",
   "id": "d3d485be-d21a-4cd1-a26b-e7f04b90425b",
   "metadata": {},
   "source": [
    "**Note: There are also more features but they're not relevant in this case.**"
   ]
  },
  {
   "cell_type": "markdown",
   "id": "f55847f6-80bd-4e0d-bba3-08361d9fa3c4",
   "metadata": {},
   "source": [
    "## Extending Our Example\n",
    "Since our initial example only had 5 data points, it's not useful for visualising the normal distribtuion. However, we can use our existing mean and standard deviation to simulate additional prices:"
   ]
  },
  {
   "cell_type": "code",
   "execution_count": null,
   "id": "b8bcd278-ad06-437e-82d8-5f92b713b7a9",
   "metadata": {},
   "outputs": [],
   "source": [
    "simulated_prices = np.random.normal(loc=mean_price, scale=numpy_std_dev, size=1000)"
   ]
  },
  {
   "cell_type": "code",
   "execution_count": null,
   "id": "b8ec788b-9c3b-49a3-8fa1-f559d44f97fa",
   "metadata": {},
   "outputs": [],
   "source": [
    "import matplotlib.pyplot as plt\n",
    "\n",
    "# Plot a histogram of the simulated prices\n",
    "plt.hist(simulated_prices, bins=30, density=True, alpha=0.6, color='g')\n",
    "\n",
    "# Plot the normal distribution curve\n",
    "xmin, xmax = plt.xlim()\n",
    "x = np.linspace(xmin, xmax, 100)\n",
    "p = np.exp(-0.5*((x-mean_price)/numpy_std_dev)**2) / (numpy_std_dev * np.sqrt(2*np.pi))\n",
    "plt.plot(x, p, 'k', linewidth=2)\n",
    "\n",
    "title = \"Fit results: mean = %.2f,  std = %.2f\" % (mean_price, numpy_std_dev)\n",
    "plt.title(title)\n",
    "plt.xlabel('Stock Price')\n",
    "plt.ylabel('Density')\n",
    "\n",
    "# Show the plot\n",
    "plt.show()"
   ]
  },
  {
   "cell_type": "markdown",
   "id": "03072e15-1548-4435-ba5e-054a6975c286",
   "metadata": {},
   "source": [
    "# Z-score\n",
    "A Z-score is a measure that tells you how far away a specific data point is from the mean of a dataset, in terms of standard deviations. It's measured with the below formula:\n",
    "\n",
    "$$z = \\frac{x - \\mu}{\\sigma}$$\n",
    "\n",
    "Where $x$ is the value you're measuring, $\\mu$ is the mean (average) and $\\sigma$ is the standard deviation of the data."
   ]
  },
  {
   "cell_type": "markdown",
   "id": "aad099f2-b20e-444c-a523-249ecaa09f11",
   "metadata": {},
   "source": [
    "---"
   ]
  },
  {
   "cell_type": "markdown",
   "id": "54fb2e2c-9d1f-471c-ba86-721f517c093f",
   "metadata": {},
   "source": [
    "# Additional Information (Appendix C from Investing Demystified) - WORK IN PROGRESS"
   ]
  },
  {
   "cell_type": "markdown",
   "id": "94c33f4a-35a4-454c-b696-48c079bbd90e",
   "metadata": {},
   "source": [
    "## Why is SD sometimes and number and other times a percentage?\n",
    "In this table, when SD is listed as a number it's representing how many standard deviations away from the average (mean) an event it. \n",
    "\n",
    "For example:\n",
    "- 1 SD means the event is one standard deviation away from the average. This happens relatively often (about 68% of time time in a normal distribution)\n",
    "- 2 SDs means the event is two standard deviations away from the averages. This is less common (about 5% of the time).\n",
    "- 3 SDs means the event is three standard deviations away from the average. This is very rare (about 0.1% of the time).\n"
   ]
  },
  {
   "cell_type": "code",
   "execution_count": null,
   "id": "da8d5aa2-f038-46f8-8a62-3ebf8a24472b",
   "metadata": {},
   "outputs": [],
   "source": [
    "import pandas as pd\n",
    "\n",
    "z_scores = [\"1.00\", \"1.28\", \"1.64\", \"2.00\", \"3.00\"]\n",
    "\n",
    "# Define column headers for the table\n",
    "columns = [\"Risk Level (SD%)\"] + [f\"{z} SD\" for z in z_scores]\n",
    "\n",
    "# Create an empty DataFrame with the defined columns\n",
    "basic_table = pd.DataFrame(columns=columns)\n",
    "\n",
    "# Display the table structure\n",
    "basic_table"
   ]
  },
  {
   "cell_type": "code",
   "execution_count": null,
   "id": "6becd731-c841-460b-bfa8-3d84bfa76378",
   "metadata": {},
   "outputs": [],
   "source": []
  }
 ],
 "metadata": {
  "kernelspec": {
   "display_name": "Python 3 (ipykernel)",
   "language": "python",
   "name": "python3"
  },
  "language_info": {
   "codemirror_mode": {
    "name": "ipython",
    "version": 3
   },
   "file_extension": ".py",
   "mimetype": "text/x-python",
   "name": "python",
   "nbconvert_exporter": "python",
   "pygments_lexer": "ipython3",
   "version": "3.13.2"
  }
 },
 "nbformat": 4,
 "nbformat_minor": 5
}
